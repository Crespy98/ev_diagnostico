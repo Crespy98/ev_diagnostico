{
 "cells": [
  {
   "cell_type": "code",
   "execution_count": 64,
   "id": "1ba72921",
   "metadata": {},
   "outputs": [],
   "source": [
    "import pandas as pd\n",
    "\n",
    "import json\n",
    "\n",
    "data = []\n",
    "\n",
    "file = open('farmers-protest-tweets-2021-03-5.json')\n",
    "\n",
    "for i in file :\n",
    "    data.append(json.loads(i))\n",
    "\n",
    "file.close()\n",
    "\n",
    "tweets = pd.DataFrame(data)\n"
   ]
  },
  {
   "cell_type": "code",
   "execution_count": 66,
   "id": "9e2bd408",
   "metadata": {},
   "outputs": [],
   "source": [
    "def opcion1 (datos):\n",
    "    retweeted = datos.sort_values(by=[\"retweetCount\"],ascending=False)\n",
    "    print (retweeted.head(10))\n",
    "    "
   ]
  },
  {
   "cell_type": "code",
   "execution_count": 70,
   "id": "50ba1a3f",
   "metadata": {
    "scrolled": true
   },
   "outputs": [],
   "source": [
    "def opcion2 (datos):\n",
    "\n",
    "    users = datos.drop(columns=['url', 'date', 'content', 'renderedContent', 'id', 'outlinks',\n",
    "           'tcooutlinks', 'replyCount', 'retweetCount', 'likeCount', 'quoteCount',\n",
    "           'conversationId', 'lang', 'source', 'sourceUrl', 'sourceLabel', 'media',\n",
    "           'retweetedTweet', 'quotedTweet', 'mentionedUsers'])\n",
    "\n",
    "\n",
    "    data_user = []\n",
    "    for i in range (users.size):\n",
    "        data_user.append(users[\"user\"][i])\n",
    "\n",
    "    user_data_frame = pd.DataFrame(data_user)\n",
    "    \n",
    "    clean_users = user_data_frame.drop(columns=['displayname', 'id', 'description', 'rawDescription',\n",
    "       'descriptionUrls', 'verified', 'created', 'followersCount',\n",
    "       'friendsCount', 'statusesCount', 'favouritesCount', 'listedCount',\n",
    "       'mediaCount', 'location', 'protected', 'linkUrl', 'linkTcourl',\n",
    "       'profileImageUrl', 'profileBannerUrl', 'url'])\n",
    "\n",
    "    top10users = clean_users['username'].value_counts()\n",
    "\n",
    "    print(top10users.head(10))\n"
   ]
  },
  {
   "cell_type": "code",
   "execution_count": 73,
   "id": "6c1e0dc0",
   "metadata": {},
   "outputs": [],
   "source": [
    "def opcion3 (datos):\n",
    "    date_clean = datos.drop(columns=['url', 'content', 'renderedContent', 'id', 'user', 'outlinks',\n",
    "           'tcooutlinks', 'replyCount', 'retweetCount', 'likeCount', 'quoteCount',\n",
    "           'conversationId', 'lang', 'source', 'sourceUrl', 'sourceLabel', 'media',\n",
    "           'retweetedTweet', 'quotedTweet', 'mentionedUsers'])\n",
    "\n",
    "    date_change = pd.to_datetime(date_clean[\"date\"])\n",
    "\n",
    "    data_date = []\n",
    "    for i in range (date_change.size):\n",
    "        data_date.append(date_change[i].date())\n",
    "\n",
    "    date_frame = pd.DataFrame(data_date)\n",
    "    print (date_frame.value_counts().head(10))\n"
   ]
  },
  {
   "cell_type": "code",
   "execution_count": 74,
   "id": "b06b1c9a",
   "metadata": {},
   "outputs": [],
   "source": [
    "def main (tweets_data):\n",
    "    print(\"1 - Los top 10 tweets más retweeted\")\n",
    "    print(\"2 - Los top 10 usuarios en función a la cantidad de tweets que emitieron\")\n",
    "    print(\"3 - Los top 10 días donde hay más tweets.\")\n",
    "    print(\"4 - Top 10 hashtags más usados.\")\n",
    "    opcion = int(input(\"Selecciona tu opcion ingresando su numero:\"))\n",
    "    \n",
    "    if opcion == 1:\n",
    "        print(\"Los top 10 tweets más retweeted\")\n",
    "        opcion1(tweets_data)\n",
    "    elif opcion == 2:\n",
    "        print(\"Los top 10 usuarios en función a la cantidad de tweets que emitieron\")\n",
    "        opcion2(tweets_data)\n",
    "    elif opcion == 3:\n",
    "        print(\"Los top 10 días donde hay más tweets.\")\n",
    "        opcion3(tweets_data)\n",
    "    \n"
   ]
  },
  {
   "cell_type": "code",
   "execution_count": 75,
   "id": "798fb290",
   "metadata": {},
   "outputs": [
    {
     "name": "stdout",
     "output_type": "stream",
     "text": [
      "1 - Los top 10 tweets más retweeted\n",
      "2 - Los top 10 usuarios en función a la cantidad de tweets que emitieron\n",
      "3 - Los top 10 días donde hay más tweets.\n",
      "4 - Top 10 hashtags más usados.\n",
      "Selecciona tu opcion ingresando su numero:3\n",
      "Los top 10 días donde hay más tweets.\n",
      "2021-02-03    83866\n",
      "2021-02-04    58607\n",
      "2021-02-05    33332\n",
      "2021-02-02    28548\n",
      "2021-02-06    22420\n",
      "2021-02-07    11325\n",
      "2021-02-09     9320\n",
      "2021-02-08     8920\n",
      "2021-02-10     7973\n",
      "2021-02-11     5698\n",
      "dtype: int64\n"
     ]
    }
   ],
   "source": [
    "main(tweets )"
   ]
  },
  {
   "cell_type": "code",
   "execution_count": null,
   "id": "a063c2ef",
   "metadata": {},
   "outputs": [],
   "source": []
  }
 ],
 "metadata": {
  "kernelspec": {
   "display_name": "Python 3 (ipykernel)",
   "language": "python",
   "name": "python3"
  },
  "language_info": {
   "codemirror_mode": {
    "name": "ipython",
    "version": 3
   },
   "file_extension": ".py",
   "mimetype": "text/x-python",
   "name": "python",
   "nbconvert_exporter": "python",
   "pygments_lexer": "ipython3",
   "version": "3.10.0"
  }
 },
 "nbformat": 4,
 "nbformat_minor": 5
}
