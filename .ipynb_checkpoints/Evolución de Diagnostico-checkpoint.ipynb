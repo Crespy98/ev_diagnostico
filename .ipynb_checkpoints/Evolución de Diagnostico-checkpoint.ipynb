{
 "cells": [
  {
   "cell_type": "code",
   "execution_count": 1,
   "id": "1ba72921",
   "metadata": {},
   "outputs": [],
   "source": [
    "import pandas as pd\n",
    "\n",
    "import json\n",
    "\n",
    "data = []\n",
    "\n",
    "file = open('farmers-protest-tweets-2021-03-5.json')\n",
    "\n",
    "for i in file :\n",
    "    data.append(json.loads(i))\n",
    "\n",
    "file.close()\n"
   ]
  },
  {
   "cell_type": "code",
   "execution_count": 2,
   "id": "62e27739",
   "metadata": {},
   "outputs": [],
   "source": [
    "tweets = pd.DataFrame(data)"
   ]
  },
  {
   "cell_type": "code",
   "execution_count": 18,
   "id": "157acb14",
   "metadata": {},
   "outputs": [
    {
     "name": "stdout",
     "output_type": "stream",
     "text": [
      "Index(['url', 'date', 'content', 'renderedContent', 'id', 'user', 'outlinks',\n",
      "       'tcooutlinks', 'replyCount', 'retweetCount', 'likeCount', 'quoteCount',\n",
      "       'conversationId', 'lang', 'source', 'sourceUrl', 'sourceLabel', 'media',\n",
      "       'retweetedTweet', 'quotedTweet', 'mentionedUsers'],\n",
      "      dtype='object')\n"
     ]
    }
   ],
   "source": [
    "print(tweets.columns)"
   ]
  },
  {
   "cell_type": "code",
   "execution_count": 3,
   "id": "69b80b8a",
   "metadata": {},
   "outputs": [
    {
     "name": "stdout",
     "output_type": "stream",
     "text": [
      "                                                      url  \\\n",
      "408128  https://twitter.com/rihanna/status/13566258896...   \n",
      "395142  https://twitter.com/GretaThunberg/status/13566...   \n",
      "266196  https://twitter.com/GretaThunberg/status/13572...   \n",
      "366579  https://twitter.com/miakhalifa/status/13568483...   \n",
      "372793  https://twitter.com/miakhalifa/status/13568277...   \n",
      "314192  https://twitter.com/TeamJuJu/status/1357048037...   \n",
      "215034  https://twitter.com/BobBlackman/status/1357755...   \n",
      "398011  https://twitter.com/vanessa_vash/status/135668...   \n",
      "325261  https://twitter.com/kylekuzma/status/135700972...   \n",
      "163689  https://twitter.com/AmandaCerny/status/1359013...   \n",
      "\n",
      "                             date  \\\n",
      "408128  2021-02-02T15:29:51+00:00   \n",
      "395142  2021-02-02T20:04:01+00:00   \n",
      "266196  2021-02-04T10:59:01+00:00   \n",
      "366579  2021-02-03T06:14:01+00:00   \n",
      "372793  2021-02-03T04:51:48+00:00   \n",
      "314192  2021-02-03T19:27:19+00:00   \n",
      "215034  2021-02-05T18:19:19+00:00   \n",
      "398011  2021-02-02T19:09:23+00:00   \n",
      "325261  2021-02-03T16:55:04+00:00   \n",
      "163689  2021-02-09T05:36:49+00:00   \n",
      "\n",
      "                                                  content  \\\n",
      "408128  why aren’t we talking about this?! #FarmersPro...   \n",
      "395142  We stand in solidarity with the #FarmersProtes...   \n",
      "266196  I still #StandWithFarmers and support their pe...   \n",
      "366579  “Paid actors,” huh? Quite the casting director...   \n",
      "372793  What in the human rights violations is going o...   \n",
      "314192  Happy to share that I’ve donated $10,000 to pr...   \n",
      "215034  There has been much social media coverage arou...   \n",
      "398011  Farmers feed the world. Fight for them. Protec...   \n",
      "325261  Should be talking about this! #FarmersProtest\\...   \n",
      "163689  To all of my influencer/celeb friends- read up...   \n",
      "\n",
      "                                          renderedContent  \\\n",
      "408128  why aren’t we talking about this?! #FarmersPro...   \n",
      "395142  We stand in solidarity with the #FarmersProtes...   \n",
      "266196  I still #StandWithFarmers and support their pe...   \n",
      "366579  “Paid actors,” huh? Quite the casting director...   \n",
      "372793  What in the human rights violations is going o...   \n",
      "314192  Happy to share that I’ve donated $10,000 to pr...   \n",
      "215034  There has been much social media coverage arou...   \n",
      "398011  Farmers feed the world. Fight for them. Protec...   \n",
      "325261  Should be talking about this! #FarmersProtest\\...   \n",
      "163689  To all of my influencer/celeb friends- read up...   \n",
      "\n",
      "                         id  \\\n",
      "408128  1356625889602199552   \n",
      "395142  1356694884615340037   \n",
      "266196  1357282507616645122   \n",
      "366579  1356848397899112448   \n",
      "372793  1356827705161879553   \n",
      "314192  1357048037302960129   \n",
      "215034  1357755699162398720   \n",
      "398011  1356681136655769605   \n",
      "325261  1357009721090138112   \n",
      "163689  1359013362881994752   \n",
      "\n",
      "                                                     user  \\\n",
      "408128  {'username': 'rihanna', 'displayname': 'Rihann...   \n",
      "395142  {'username': 'GretaThunberg', 'displayname': '...   \n",
      "266196  {'username': 'GretaThunberg', 'displayname': '...   \n",
      "366579  {'username': 'miakhalifa', 'displayname': 'Mia...   \n",
      "372793  {'username': 'miakhalifa', 'displayname': 'Mia...   \n",
      "314192  {'username': 'TeamJuJu', 'displayname': 'JuJu ...   \n",
      "215034  {'username': 'BobBlackman', 'displayname': 'Bo...   \n",
      "398011  {'username': 'vanessa_vash', 'displayname': 'V...   \n",
      "325261  {'username': 'kylekuzma', 'displayname': 'kuz'...   \n",
      "163689  {'username': 'AmandaCerny', 'displayname': 'Am...   \n",
      "\n",
      "                                                 outlinks  \\\n",
      "408128  [https://www.cnn.com/2021/02/01/asia/india-int...   \n",
      "395142  [https://www.cnn.com/2021/02/01/asia/india-int...   \n",
      "266196                                                 []   \n",
      "366579                                                 []   \n",
      "372793                                                 []   \n",
      "314192  [https://www.usnews.com/news/world/articles/20...   \n",
      "215034                                                 []   \n",
      "398011                                                 []   \n",
      "325261  [https://www.cnn.com/2021/02/01/asia/india-int...   \n",
      "163689                                                 []   \n",
      "\n",
      "                      tcooutlinks  replyCount  retweetCount  ...  quoteCount  \\\n",
      "408128  [https://t.co/obmIlXhK9S]      163065        315547  ...       45832   \n",
      "395142  [https://t.co/tqvR0oHgo0]       49793        103957  ...       13815   \n",
      "266196                         []       39596         67694  ...       10587   \n",
      "366579                         []       15569         35921  ...        5681   \n",
      "372793                         []        9082         26972  ...        4606   \n",
      "314192  [https://t.co/0WoEw0l3ij]        7683         23251  ...        4082   \n",
      "215034                         []        1845         20132  ...        1592   \n",
      "398011                         []        1301         18744  ...         820   \n",
      "325261  [https://t.co/Xh09iTvVoF]        4167         17368  ...        2505   \n",
      "163689                         []        2028         15677  ...         813   \n",
      "\n",
      "             conversationId  lang  \\\n",
      "408128  1356625889602199552    en   \n",
      "395142  1356694884615340037    en   \n",
      "266196  1357282507616645122    en   \n",
      "366579  1356848397899112448    en   \n",
      "372793  1356827705161879553    en   \n",
      "314192  1357048037302960129    en   \n",
      "215034  1357755699162398720    en   \n",
      "398011  1356681136655769605    en   \n",
      "325261  1357009721090138112    en   \n",
      "163689  1359013362881994752    en   \n",
      "\n",
      "                                                   source  \\\n",
      "408128  <a href=\"http://twitter.com/download/iphone\" r...   \n",
      "395142  <a href=\"http://twitter.com/download/iphone\" r...   \n",
      "266196  <a href=\"http://twitter.com/download/iphone\" r...   \n",
      "366579  <a href=\"http://twitter.com/download/iphone\" r...   \n",
      "372793  <a href=\"http://twitter.com/download/iphone\" r...   \n",
      "314192  <a href=\"http://twitter.com/download/iphone\" r...   \n",
      "215034  <a href=\"https://mobile.twitter.com\" rel=\"nofo...   \n",
      "398011  <a href=\"http://twitter.com/download/android\" ...   \n",
      "325261  <a href=\"http://twitter.com/download/iphone\" r...   \n",
      "163689  <a href=\"http://twitter.com/download/iphone\" r...   \n",
      "\n",
      "                                  sourceUrl          sourceLabel  \\\n",
      "408128   http://twitter.com/download/iphone   Twitter for iPhone   \n",
      "395142   http://twitter.com/download/iphone   Twitter for iPhone   \n",
      "266196   http://twitter.com/download/iphone   Twitter for iPhone   \n",
      "366579   http://twitter.com/download/iphone   Twitter for iPhone   \n",
      "372793   http://twitter.com/download/iphone   Twitter for iPhone   \n",
      "314192   http://twitter.com/download/iphone   Twitter for iPhone   \n",
      "215034           https://mobile.twitter.com      Twitter Web App   \n",
      "398011  http://twitter.com/download/android  Twitter for Android   \n",
      "325261   http://twitter.com/download/iphone   Twitter for iPhone   \n",
      "163689   http://twitter.com/download/iphone   Twitter for iPhone   \n",
      "\n",
      "                                                    media retweetedTweet  \\\n",
      "408128                                               None           None   \n",
      "395142                                               None           None   \n",
      "266196                                               None           None   \n",
      "366579  [{'previewUrl': 'https://pbs.twimg.com/media/E...           None   \n",
      "372793  [{'previewUrl': 'https://pbs.twimg.com/media/E...           None   \n",
      "314192                                               None           None   \n",
      "215034  [{'previewUrl': 'https://pbs.twimg.com/media/E...           None   \n",
      "398011                                               None           None   \n",
      "325261                                               None           None   \n",
      "163689                                               None           None   \n",
      "\n",
      "       quotedTweet mentionedUsers  \n",
      "408128        None           None  \n",
      "395142        None           None  \n",
      "266196        None           None  \n",
      "366579        None           None  \n",
      "372793        None           None  \n",
      "314192        None           None  \n",
      "215034        None           None  \n",
      "398011        None           None  \n",
      "325261        None           None  \n",
      "163689        None           None  \n",
      "\n",
      "[10 rows x 21 columns]\n"
     ]
    }
   ],
   "source": [
    "retweeted = tweets.sort_values(by=[\"retweetCount\"],ascending=False)\n",
    "print (retweeted.head(10))\n",
    "    "
   ]
  },
  {
   "cell_type": "code",
   "execution_count": 39,
   "id": "a4a6b646",
   "metadata": {
    "scrolled": true
   },
   "outputs": [
    {
     "name": "stdout",
     "output_type": "stream",
     "text": [
      "{'username': 'kaursuk06272818', 'displayname': 'KAUR SUKH🌾ਕੌਰ ਸੁਖ', 'id': 1332937272581263362, 'description': 'ਜਿਓਣਾ ਕੀ ਸਰੀਰਾਂ ਦਾ ਜੇਕਰ ਹੋਣ ਜ਼ਮੀਰਾਂ ਮਰੀਆਂ 🌼', 'rawDescription': 'ਜਿਓਣਾ ਕੀ ਸਰੀਰਾਂ ਦਾ ਜੇਕਰ ਹੋਣ ਜ਼ਮੀਰਾਂ ਮਰੀਆਂ 🌼', 'descriptionUrls': [], 'verified': False, 'created': '2020-11-29T06:40:06+00:00', 'followersCount': 51, 'friendsCount': 68, 'statusesCount': 1338, 'favouritesCount': 3676, 'listedCount': 0, 'mediaCount': 607, 'location': '', 'protected': False, 'linkUrl': None, 'linkTcourl': None, 'profileImageUrl': 'https://pbs.twimg.com/profile_images/1332951497315741697/WIyTdtHK_normal.jpg', 'profileBannerUrl': 'https://pbs.twimg.com/profile_banners/1332937272581263362/1607852065', 'url': 'https://twitter.com/kaursuk06272818'}\n"
     ]
    }
   ],
   "source": [
    "users = tweets.drop(columns=['url', 'date', 'content', 'renderedContent', 'id', 'outlinks',\n",
    "       'tcooutlinks', 'replyCount', 'retweetCount', 'likeCount', 'quoteCount',\n",
    "       'conversationId', 'lang', 'source', 'sourceUrl', 'sourceLabel', 'media',\n",
    "       'retweetedTweet', 'quotedTweet', 'mentionedUsers'])\n",
    "print(users[\"user\"][1])\n",
    "\n",
    "\n",
    "data_user = []\n",
    "for i in range (users.size):\n",
    "    data_user.append(users[\"user\"][i])\n",
    "    \n",
    "user_data_frame = pd.DataFrame(data_user)\n"
   ]
  },
  {
   "cell_type": "code",
   "execution_count": 36,
   "id": "8633d3b3",
   "metadata": {},
   "outputs": [
    {
     "name": "stdout",
     "output_type": "stream",
     "text": [
      "Index(['username', 'displayname', 'id', 'description', 'rawDescription',\n",
      "       'descriptionUrls', 'verified', 'created', 'followersCount',\n",
      "       'friendsCount', 'statusesCount', 'favouritesCount', 'listedCount',\n",
      "       'mediaCount', 'location', 'protected', 'linkUrl', 'linkTcourl',\n",
      "       'profileImageUrl', 'profileBannerUrl', 'url'],\n",
      "      dtype='object')\n"
     ]
    }
   ],
   "source": [
    "print(user_data_frame.columns)"
   ]
  },
  {
   "cell_type": "code",
   "execution_count": 42,
   "id": "a375c38e",
   "metadata": {},
   "outputs": [
    {
     "name": "stdout",
     "output_type": "stream",
     "text": [
      "harjot_tweeting    7134\n",
      "tasveersandhu      2091\n",
      "shells_n_petals    1991\n",
      "jot__b             1841\n",
      "rebelpacifist      1806\n",
      "rumsomal           1722\n",
      "Iamjazzie96        1502\n",
      "Jass_k_G           1460\n",
      "DigitalKisanBot    1453\n",
      "z_khalique007      1446\n",
      "Name: username, dtype: int64\n"
     ]
    }
   ],
   "source": [
    "clean_users = user_data_frame.drop(columns=['displayname', 'id', 'description', 'rawDescription',\n",
    "       'descriptionUrls', 'verified', 'created', 'followersCount',\n",
    "       'friendsCount', 'statusesCount', 'favouritesCount', 'listedCount',\n",
    "       'mediaCount', 'location', 'protected', 'linkUrl', 'linkTcourl',\n",
    "       'profileImageUrl', 'profileBannerUrl', 'url'])\n",
    "\n",
    "top10users = clean_users['username'].value_counts()\n",
    "\n",
    "print(top10users.head(10))\n"
   ]
  },
  {
   "cell_type": "code",
   "execution_count": 59,
   "id": "f15dedab",
   "metadata": {},
   "outputs": [
    {
     "name": "stdout",
     "output_type": "stream",
     "text": [
      "                 0\n",
      "0       2021-03-30\n",
      "1       2021-03-30\n",
      "2       2021-03-30\n",
      "3       2021-03-30\n",
      "4       2021-03-30\n",
      "...            ...\n",
      "419502  2021-02-01\n",
      "419503  2021-02-01\n",
      "419504  2021-02-01\n",
      "419505  2021-02-01\n",
      "419506  2021-02-01\n",
      "\n",
      "[419507 rows x 1 columns]\n"
     ]
    }
   ],
   "source": [
    "date_clean = tweets.drop(columns=['url', 'content', 'renderedContent', 'id', 'user', 'outlinks',\n",
    "       'tcooutlinks', 'replyCount', 'retweetCount', 'likeCount', 'quoteCount',\n",
    "       'conversationId', 'lang', 'source', 'sourceUrl', 'sourceLabel', 'media',\n",
    "       'retweetedTweet', 'quotedTweet', 'mentionedUsers'])\n",
    "\n",
    "date_change = pd.to_datetime(date_clean[\"date\"])\n",
    "\n",
    "data_date = []\n",
    "for i in range (date_change.size):\n",
    "    data_date.append(date_change[i].date())\n",
    "\n",
    "date_frame = pd.DataFrame(data_date)\n",
    "print (date_frame.value_counts().head(10))\n"
   ]
  },
  {
   "cell_type": "code",
   "execution_count": 61,
   "id": "1ab2d220",
   "metadata": {},
   "outputs": [
    {
     "name": "stdout",
     "output_type": "stream",
     "text": [
      "2021-02-03    83866\n",
      "2021-02-04    58607\n",
      "2021-02-05    33332\n",
      "2021-02-02    28548\n",
      "2021-02-06    22420\n",
      "2021-02-07    11325\n",
      "2021-02-09     9320\n",
      "2021-02-08     8920\n",
      "2021-02-10     7973\n",
      "2021-02-11     5698\n",
      "dtype: int64\n"
     ]
    }
   ],
   "source": []
  },
  {
   "cell_type": "code",
   "execution_count": null,
   "id": "915e3975",
   "metadata": {},
   "outputs": [],
   "source": []
  }
 ],
 "metadata": {
  "kernelspec": {
   "display_name": "Python 3 (ipykernel)",
   "language": "python",
   "name": "python3"
  },
  "language_info": {
   "codemirror_mode": {
    "name": "ipython",
    "version": 3
   },
   "file_extension": ".py",
   "mimetype": "text/x-python",
   "name": "python",
   "nbconvert_exporter": "python",
   "pygments_lexer": "ipython3",
   "version": "3.10.0"
  }
 },
 "nbformat": 4,
 "nbformat_minor": 5
}
